{
 "cells": [
  {
   "cell_type": "code",
   "execution_count": 1,
   "metadata": {},
   "outputs": [
    {
     "ename": "TypeError",
     "evalue": "copy() takes no arguments (1 given)",
     "output_type": "error",
     "traceback": [
      "\u001b[1;31m---------------------------------------------------------------------------\u001b[0m",
      "\u001b[1;31mTypeError\u001b[0m                                 Traceback (most recent call last)",
      "\u001b[1;32m<ipython-input-1-c1e3cf127149>\u001b[0m in \u001b[0;36m<module>\u001b[1;34m\u001b[0m\n\u001b[0;32m     10\u001b[0m \u001b[0mlst\u001b[0m\u001b[1;33m.\u001b[0m\u001b[0mcount\u001b[0m\u001b[1;33m(\u001b[0m\u001b[1;36m454\u001b[0m\u001b[1;33m)\u001b[0m\u001b[1;33m\u001b[0m\u001b[1;33m\u001b[0m\u001b[0m\n\u001b[0;32m     11\u001b[0m \u001b[0mlst\u001b[0m\u001b[1;33m.\u001b[0m\u001b[0mreverse\u001b[0m\u001b[1;33m(\u001b[0m\u001b[1;33m)\u001b[0m\u001b[1;33m\u001b[0m\u001b[1;33m\u001b[0m\u001b[0m\n\u001b[1;32m---> 12\u001b[1;33m \u001b[0mlst\u001b[0m\u001b[1;33m.\u001b[0m\u001b[0mcopy\u001b[0m\u001b[1;33m(\u001b[0m\u001b[0mlst\u001b[0m\u001b[1;33m)\u001b[0m\u001b[1;33m\u001b[0m\u001b[1;33m\u001b[0m\u001b[0m\n\u001b[0m\u001b[0;32m     13\u001b[0m \u001b[1;33m\u001b[0m\u001b[0m\n",
      "\u001b[1;31mTypeError\u001b[0m: copy() takes no arguments (1 given)"
     ]
    }
   ],
   "source": [
    "lst=[2,2,3,33.78,\"class\",32.12]\n",
    "lst.append(44)\n",
    "lst.remove(2)\n",
    "lst.insert(2,\"roy\")\n",
    "lst.pop()\n",
    "del lst[1]\n",
    "lst.index(\"class\")\n",
    "lst\n",
    "lst.count(2)\n",
    "lst.count(454)\n",
    "lst.reverse()\n",
    "lst.copy(lst)\n",
    "\n"
   ]
  },
  {
   "cell_type": "code",
   "execution_count": null,
   "metadata": {},
   "outputs": [],
   "source": [
    "pwd\n"
   ]
  },
  {
   "cell_type": "code",
   "execution_count": null,
   "metadata": {},
   "outputs": [],
   "source": [
    "lst.sort()"
   ]
  },
  {
   "cell_type": "code",
   "execution_count": null,
   "metadata": {},
   "outputs": [],
   "source": [
    "lst.extend([2423,34])\n",
    "lst\n",
    "lst[::-1]\n",
    "lst\n",
    "lst*2\n",
    "lst[4]\n",
    "\n"
   ]
  },
  {
   "cell_type": "code",
   "execution_count": null,
   "metadata": {},
   "outputs": [],
   "source": [
    "# tuples\n",
    "tup=(\"door\",4324.2433,23,56,\"say\")\n",
    "tup[2]\n",
    "tup[:2]\n",
    "tup[-1]\n",
    "tup.count(\"say\")\n",
    "tup.index(23)\n",
    "tup*2\n",
    "tup[:-1]\n",
    "tup[6::-1]\n",
    "tup[4]\n",
    "\n",
    "\n"
   ]
  },
  {
   "cell_type": "markdown",
   "metadata": {},
   "source": [
    "# condtional statements\n",
    "####accept  3 numbers fron keyboard and need to check wheather student got min marks?(30),if not print fail,if he gets max marks find avg if avg>75 then print grade A if avg is b/w 60-70 print grade b,avg b/w 30-60 print grade c,if <30 print fail\n",
    "\n"
   ]
  },
  {
   "cell_type": "code",
   "execution_count": null,
   "metadata": {},
   "outputs": [],
   "source": [
    "s1=int(input(\"enter marks of a student:\"))\n",
    "s2=int(input(\"enter marks of a student:\"))\n",
    "s3=int(input(\"enter marks of a student:\"))\n",
    "\n",
    "sum=s1+s2+s3\n",
    "avg=sum/3\n",
    "\n",
    "if avg>75:\n",
    "    print(\"grade A\")\n",
    "elif avg>60 and avg<75:\n",
    "    print(\"grade B\")\n",
    "else:\n",
    "    print(\"grade C\")"
   ]
  },
  {
   "cell_type": "markdown",
   "metadata": {},
   "source": [
    "  # Check whether the given number is even or odd\n",
    "  \n",
    "  "
   ]
  },
  {
   "cell_type": "code",
   "execution_count": null,
   "metadata": {},
   "outputs": [],
   "source": [
    "l=int(input(\"enter a number\"))\n",
    "if l==0:\n",
    "    print(\"it is zero\")\n",
    "if l%2==0:\n",
    "    print(\"even\")\n",
    "else:\n",
    "    print(\"odd\")"
   ]
  },
  {
   "cell_type": "code",
   "execution_count": null,
   "metadata": {},
   "outputs": [],
   "source": [
    " #Accept age of a person and decide whether the candidate is eligible for     voting or not\n",
    "t=int(input(\"enter ur age\"))\n",
    "if t>18:\n",
    "    print(\"eligible to vote\")\n",
    "else:\n",
    "    print(\"not eligible to vote\")"
   ]
  },
  {
   "cell_type": "code",
   "execution_count": null,
   "metadata": {},
   "outputs": [],
   "source": [
    "#Check whether the given number is divible by 2 and 3 but not 4\n",
    "d=int(input(\"enter a number\"))\n",
    "if d%2==0 and d%3==0:\n",
    "    print(\"divisible by 2 and 3\")\n",
    "else:\n",
    "    print(\"not divisible by 2 and 3\")"
   ]
  },
  {
   "cell_type": "code",
   "execution_count": null,
   "metadata": {},
   "outputs": [],
   "source": [
    "#find the large number from the given 3 numbers.\n",
    "a=int(input(\"enter a number\"))\n",
    "b=int(input(\"enter a number\"))\n",
    "c=int(input(\"enter a number\"))\n",
    "if a>b and a>c:\n",
    "    print(\"a is big\")\n",
    "elif b>c:\n",
    "    print(\"b is big\")\n",
    "else:\n",
    "    print(\"c is big\")\n",
    "    \n",
    "    \n",
    "\n",
    "\n",
    "\n",
    "\n"
   ]
  },
  {
   "cell_type": "code",
   "execution_count": null,
   "metadata": {},
   "outputs": [],
   "source": [
    " #check whether the given year is leap year or not\n",
    "year=int(input(\"enter a year\"))\n",
    "if(year%4==0 and year%100!=0 or year%400==0):\n",
    "    print(\"leap year\")\n",
    "else:\n",
    "    print(\"not a leap year\")\n",
    "    "
   ]
  },
  {
   "cell_type": "code",
   "execution_count": null,
   "metadata": {},
   "outputs": [],
   "source": [
    "# Read the string and char as input and print the number of occurances of charin the given string\n",
    "str=\"this is python\"\n",
    "str.count(\"s\")\n",
    "\n",
    "\n",
    "\n",
    "\n",
    "    "
   ]
  },
  {
   "cell_type": "code",
   "execution_count": null,
   "metadata": {},
   "outputs": [],
   "source": [
    "str=input(\"enter a string\")\n",
    "t=input(\"enter a char\")\n",
    "if t in str:\n",
    "    print(str.count(t))\n",
    "else:\n",
    "    print(\"u entered char is not in string\")"
   ]
  },
  {
   "cell_type": "code",
   "execution_count": null,
   "metadata": {},
   "outputs": [],
   "source": [
    "#Read the input as string and print the output in the following manner\n",
    "s=input(\"enter a string\")\n",
    "print(s.swapcase())\n"
   ]
  },
  {
   "cell_type": "code",
   "execution_count": null,
   "metadata": {},
   "outputs": [],
   "source": [
    "str=\"\"\n",
    "s=input(\"enter a string\")\n",
    "for x in s:\n",
    "    if x.islower()==True:\n",
    "        print(str+x.upper())\n",
    "    else:\n",
    "        print(str+x.lower())\n",
    "\n"
   ]
  },
  {
   "cell_type": "code",
   "execution_count": null,
   "metadata": {},
   "outputs": [],
   "source": [
    "str=\"\"\n",
    "s=input(\"enter a string\")\n",
    "for x in s:\n",
    "    if x.islower()==True:\n",
    "        str=str+x.upper()\n",
    "    else:\n",
    "        str=str+x.lower()\n",
    "print(str)        "
   ]
  },
  {
   "cell_type": "code",
   "execution_count": null,
   "metadata": {},
   "outputs": [],
   "source": [
    "#Test whether the string is palindrome or not\n",
    "string=input(\"enter a string\")\n",
    "if(string==string[::-1]):\n",
    "      print(\"The string is a palindrome\")\n",
    "else:\n",
    "      print(\"The string is not a palindrome\")\n"
   ]
  },
  {
   "cell_type": "code",
   "execution_count": 9,
   "metadata": {},
   "outputs": [
    {
     "name": "stdout",
     "output_type": "stream",
     "text": [
      "[1, 2, 3, 4, 5, 6, 7, 8]\n"
     ]
    }
   ],
   "source": [
    " #Convert string into list\n",
    "str=\"12345678\"\n",
    "lst=[]\n",
    "for i in str:\n",
    "    lst.append(int(i))\n",
    "print(lst)    \n",
    "    \n",
    "    \n",
    "    \n",
    "    \n",
    "    "
   ]
  },
  {
   "cell_type": "code",
   "execution_count": 14,
   "metadata": {},
   "outputs": [
    {
     "name": "stdout",
     "output_type": "stream",
     "text": [
      "Python\n"
     ]
    }
   ],
   "source": [
    "#Print the second largest string from the list of string\n",
    "str=[\"Python\",\"Java\",\"C\",\"programming\", \"Swift\"]\n",
    "x=sorted(str,key=len)\n",
    "print(x[-2])\n",
    "\n",
    "\n",
    "\n",
    "\n",
    "\n",
    "\n"
   ]
  },
  {
   "cell_type": "code",
   "execution_count": 16,
   "metadata": {},
   "outputs": [
    {
     "name": "stdout",
     "output_type": "stream",
     "text": [
      "enter a stringbhargavi\n",
      "eibuibaj\n"
     ]
    }
   ],
   "source": [
    "# Read the input as string and output will followed\n",
    "str=input(\"enter a string\")\n",
    "str1=\"\"\n",
    "for i in str:\n",
    "    if i in [\"a\",\"e\",\"i\",\"o\",\"u\"]:\n",
    "        str1=str1+(chr(ord(i)+1))\n",
    "    else:\n",
    "        if ord(i)>=98 and ord(i)<=100:\n",
    "            str1=str1+\"e\"\n",
    "        elif ord(i)>=102 and ord(i)<=104:\n",
    "            str1=str1+\"i\"\n",
    "        elif ord(i)>=106 and ord(i)<=110:\n",
    "            str1=str1+\"o\"\n",
    "        elif ord(i)>=112 and ord(i)<=116:\n",
    "            str1=str1+\"u\"\n",
    "        elif ord(i)>=118 and ord(i)<=123:\n",
    "            str1=str1+\"a\"\n",
    "print(str1)            \n",
    "          \n",
    "        \n",
    "        \n",
    "        \n",
    "\n",
    "\n",
    "\n",
    "\n",
    "\n"
   ]
  },
  {
   "cell_type": "code",
   "execution_count": null,
   "metadata": {},
   "outputs": [],
   "source": []
  }
 ],
 "metadata": {
  "kernelspec": {
   "display_name": "Python 3",
   "language": "python",
   "name": "python3"
  },
  "language_info": {
   "codemirror_mode": {
    "name": "ipython",
    "version": 3
   },
   "file_extension": ".py",
   "mimetype": "text/x-python",
   "name": "python",
   "nbconvert_exporter": "python",
   "pygments_lexer": "ipython3",
   "version": "3.7.4"
  }
 },
 "nbformat": 4,
 "nbformat_minor": 2
}
