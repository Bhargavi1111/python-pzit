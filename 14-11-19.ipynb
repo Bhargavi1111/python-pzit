{
 "cells": [
  {
   "cell_type": "code",
   "execution_count": 2,
   "metadata": {},
   "outputs": [
    {
     "name": "stdout",
     "output_type": "stream",
     "text": [
      "enter a stringorange\n",
      "puboif\n"
     ]
    }
   ],
   "source": [
    "#Read the input as string and Output will followed\n",
    "\n",
    "str=input(\"enter a string\")\n",
    "str1=\"\"\n",
    "for i in str:\n",
    "    if i in [\"a\",\"e\",\"i\",\"o\",\"u\"]:\n",
    "        str1=str1+(chr(ord(i)+1))\n",
    "    else:\n",
    "        if ord(i)>=98 and ord(i)<=100:\n",
    "            str1=str1+\"e\"\n",
    "        elif ord(i)>=102 and ord(i)<=104:\n",
    "            str1=str1+\"i\"\n",
    "        elif ord(i)>=106 and ord(i)<=110:\n",
    "            str1=str1+\"o\"\n",
    "        elif ord(i)>=112 and ord(i)<=116:\n",
    "            str1=str1+\"u\"\n",
    "        elif ord(i)>=118 and ord(i)<=123:\n",
    "            str1=str1+\"a\"\n",
    "print(str1)            \n",
    "          "
   ]
  },
  {
   "cell_type": "code",
   "execution_count": 6,
   "metadata": {},
   "outputs": [
    {
     "name": "stdout",
     "output_type": "stream",
     "text": [
      "enter a stringpythonPROGRAMMING\n",
      "PYTHONprogramming\n"
     ]
    }
   ],
   "source": [
    "#Read the string as input and Print the output following the manner\n",
    "str=\"\"\n",
    "s=input(\"enter a string\")\n",
    "for x in s:\n",
    "    if x.islower()==True:\n",
    "        str=str+x.upper()\n",
    "    else:\n",
    "        str=str+x.lower()\n",
    "print(str) \n",
    "        \n"
   ]
  },
  {
   "cell_type": "code",
   "execution_count": 46,
   "metadata": {},
   "outputs": [
    {
     "name": "stdout",
     "output_type": "stream",
     "text": [
      "enter a stringpython has great programming\n",
      "['python', 'great']\n"
     ]
    }
   ],
   "source": [
    "#Read the input as string and Output will be alternate words in lower case\n",
    "str=input(\"enter a string\")\n",
    "str1=\"\"\n",
    "x=str.split()\n",
    "t=x[::2]\n",
    "print(t)\n",
    "\n",
    "        \n",
    "        \n",
    "    "
   ]
  },
  {
   "cell_type": "code",
   "execution_count": 62,
   "metadata": {},
   "outputs": [
    {
     "ename": "TypeError",
     "evalue": "'str' object is not callable",
     "output_type": "error",
     "traceback": [
      "\u001b[1;31m---------------------------------------------------------------------------\u001b[0m",
      "\u001b[1;31mTypeError\u001b[0m                                 Traceback (most recent call last)",
      "\u001b[1;32m<ipython-input-62-78077d427419>\u001b[0m in \u001b[0;36m<module>\u001b[1;34m\u001b[0m\n\u001b[0;32m     11\u001b[0m         \u001b[1;32mif\u001b[0m \u001b[0my\u001b[0m\u001b[1;33m%\u001b[0m\u001b[1;36m2\u001b[0m\u001b[1;33m==\u001b[0m\u001b[1;36m0\u001b[0m\u001b[1;33m:\u001b[0m\u001b[1;33m\u001b[0m\u001b[1;33m\u001b[0m\u001b[0m\n\u001b[0;32m     12\u001b[0m             \u001b[0msum\u001b[0m\u001b[1;33m=\u001b[0m\u001b[0msum\u001b[0m\u001b[1;33m+\u001b[0m\u001b[0my\u001b[0m\u001b[1;33m\u001b[0m\u001b[1;33m\u001b[0m\u001b[0m\n\u001b[1;32m---> 13\u001b[1;33m         \u001b[0mdigit\u001b[0m\u001b[1;33m.\u001b[0m\u001b[0mappend\u001b[0m\u001b[1;33m(\u001b[0m\u001b[0mstr\u001b[0m\u001b[1;33m(\u001b[0m\u001b[0my\u001b[0m\u001b[1;33m)\u001b[0m\u001b[1;33m)\u001b[0m\u001b[1;33m\u001b[0m\u001b[1;33m\u001b[0m\u001b[0m\n\u001b[0m\u001b[0;32m     14\u001b[0m \u001b[0mz\u001b[0m\u001b[1;33m=\u001b[0m\u001b[1;34m\"+\"\u001b[0m\u001b[1;33m.\u001b[0m\u001b[0mjoin\u001b[0m\u001b[1;33m(\u001b[0m\u001b[0mdigit\u001b[0m\u001b[1;33m)\u001b[0m\u001b[1;33m\u001b[0m\u001b[1;33m\u001b[0m\u001b[0m\n\u001b[0;32m     15\u001b[0m \u001b[0mprint\u001b[0m\u001b[1;33m(\u001b[0m\u001b[0msum\u001b[0m\u001b[1;33m,\u001b[0m\u001b[1;34m\"(\"\u001b[0m\u001b[1;33m,\u001b[0m\u001b[0mz\u001b[0m\u001b[1;33m,\u001b[0m\u001b[1;34m\")\"\u001b[0m\u001b[1;33m)\u001b[0m\u001b[1;33m\u001b[0m\u001b[1;33m\u001b[0m\u001b[0m\n",
      "\u001b[1;31mTypeError\u001b[0m: 'str' object is not callable"
     ]
    }
   ],
   "source": [
    "#Read the input as  Output as Only even digit sum\n",
    "n=\"bhargavi1234\"\n",
    "x=\"ABCDEFGHIJKLMNOPQRSTUVWXYabcdefghijklmnopqrstuvwxyz\"\n",
    "sum=0\n",
    "digit=[]\n",
    "for i in n:\n",
    "    if i in x:\n",
    "        pass\n",
    "    else:\n",
    "        y=int(i)\n",
    "        if y%2==0:\n",
    "            sum=sum+y\n",
    "            digit.append(str(y))\n",
    "z=\"+\".join(digit)\n",
    "print(sum,\"(\",z,\")\")\n",
    "    \n",
    "\n",
    "\n",
    "        \n",
    "    \n",
    "        \n"
   ]
  },
  {
   "cell_type": "code",
   "execution_count": 57,
   "metadata": {},
   "outputs": [
    {
     "name": "stdout",
     "output_type": "stream",
     "text": [
      "15\n"
     ]
    }
   ],
   "source": [
    "def add(*b):\n",
    "    c=sum(b)\n",
    "    print(c)\n",
    "    \n",
    "add(1,2,3,4,5)    \n",
    "    \n"
   ]
  },
  {
   "cell_type": "code",
   "execution_count": 65,
   "metadata": {},
   "outputs": [
    {
     "name": "stdout",
     "output_type": "stream",
     "text": [
      "enter a namebhargavi\n",
      "u r name in list\n"
     ]
    }
   ],
   "source": [
    "#Accept name as input and search for that name in the master list if the name is available, print yes or print no\n",
    "l=['bhargavi','abhilash','ishitha','kavya','rahul']\n",
    "str=input(\"enter a name\")\n",
    "if str in l:\n",
    "    print(\"u r name in list\")\n",
    "else:\n",
    "    print(\"sorry, ur name not in list\")\n",
    "\n",
    "\n",
    "\n",
    "\n",
    "\n",
    "\n",
    "\n"
   ]
  },
  {
   "cell_type": "code",
   "execution_count": 100,
   "metadata": {},
   "outputs": [
    {
     "name": "stdout",
     "output_type": "stream",
     "text": [
      "enter ur namebhanu\n",
      "no\n"
     ]
    }
   ],
   "source": [
    "def fun(names):\n",
    "    if i in names:\n",
    "        print(\"yes\")\n",
    "    else:\n",
    "        print(\"no\")\n",
    "names=['bhargavi','abhilash','ishitha','kavya','rahul']\n",
    "i=input(\"enter ur name\")\n",
    "fun(names)\n",
    "\n",
    "        "
   ]
  },
  {
   "cell_type": "code",
   "execution_count": 86,
   "metadata": {},
   "outputs": [
    {
     "name": "stdout",
     "output_type": "stream",
     "text": [
      "7\n"
     ]
    }
   ],
   "source": [
    "#Print the count of the students whose age is >20\n",
    "ls=[12,34,13,87,45,12,21,2,5,76,2,6]\n",
    "count=0\n",
    "for i in ls:\n",
    "    if i>=20:\n",
    "        pass\n",
    "    else:\n",
    "        count=count+1\n",
    "print(count)\n"
   ]
  },
  {
   "cell_type": "code",
   "execution_count": 105,
   "metadata": {},
   "outputs": [
    {
     "name": "stdout",
     "output_type": "stream",
     "text": [
      "7\n"
     ]
    }
   ],
   "source": [
    "\n",
    "def mem(age):\n",
    "    count=0\n",
    "    for i in ls:\n",
    "        if i>20:\n",
    "            pass\n",
    "        else:\n",
    "            count=count+1\n",
    "    print(count)            \n",
    "ls=[12,34,13,87,45,12,21,2,5,76,2,6] \n",
    "mem(ls)"
   ]
  },
  {
   "cell_type": "code",
   "execution_count": 116,
   "metadata": {},
   "outputs": [
    {
     "name": "stdout",
     "output_type": "stream",
     "text": [
      "enter a number11\n",
      "is a prime number\n"
     ]
    }
   ],
   "source": [
    "# Read the Input as number and print the output as true or false.If the input number is prime then print true otherwise print fasle\n",
    "t=int(input(\"enter a number\"))\n",
    "if t>1:\n",
    "    for i in range(2,t):\n",
    "        if t%i==0:\n",
    "            print(\"not a prime number\")\n",
    "    else:\n",
    "        print(\"is a prime number\")\n",
    "else:\n",
    "    print(\"not a prime\")\n",
    "    \n",
    "\n",
    "\n",
    "\n"
   ]
  },
  {
   "cell_type": "code",
   "execution_count": null,
   "metadata": {},
   "outputs": [],
   "source": [
    " #Read the input as two limits and print the output as palindrome count between the two limits\n",
    " # 1 100--->1 2 3 4 5 6 7 8 9 11 22 33 44 55 66 77 88 99   \n",
    "min=int(input(\"enter a num\"))\n",
    "max=int(input(\"enter a num\"))\n",
    "for i in range(min,max):\n",
    "    \n",
    "    \n",
    "    \n",
    "    "
   ]
  },
  {
   "cell_type": "code",
   "execution_count": null,
   "metadata": {},
   "outputs": [],
   "source": []
  }
 ],
 "metadata": {
  "kernelspec": {
   "display_name": "Python 3",
   "language": "python",
   "name": "python3"
  },
  "language_info": {
   "codemirror_mode": {
    "name": "ipython",
    "version": 3
   },
   "file_extension": ".py",
   "mimetype": "text/x-python",
   "name": "python",
   "nbconvert_exporter": "python",
   "pygments_lexer": "ipython3",
   "version": "3.7.4"
  }
 },
 "nbformat": 4,
 "nbformat_minor": 2
}
