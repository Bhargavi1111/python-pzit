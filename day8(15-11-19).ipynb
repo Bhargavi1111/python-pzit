{
 "cells": [
  {
   "cell_type": "code",
   "execution_count": 1,
   "metadata": {},
   "outputs": [
    {
     "name": "stdout",
     "output_type": "stream",
     "text": [
      "enter a number5\n",
      "120\n"
     ]
    }
   ],
   "source": [
    " #Read a number as input and Print the Output as Factors of the given number\n",
    "n=int(input(\"enter a number\"))\n",
    "fact=1\n",
    "if n==0:\n",
    "        print(\"factorial of 0 is 1\")\n",
    "else:\n",
    "    for i in range(1,n+1):\n",
    "        fact=fact*i\n",
    "    print(fact)    \n",
    "        \n",
    "\n"
   ]
  },
  {
   "cell_type": "code",
   "execution_count": null,
   "metadata": {},
   "outputs": [],
   "source": [
    "n=int(input(\"enter a number\"))\n",
    "for i in range(1,n+1):\n",
    "    if n%i==0:\n",
    "        print(i)\n"
   ]
  },
  {
   "cell_type": "code",
   "execution_count": null,
   "metadata": {},
   "outputs": [],
   "source": [
    "n=input(\"enter a number\")\n",
    "print(sorted(list(n))[-1])\n",
    "\n",
    "      "
   ]
  },
  {
   "cell_type": "code",
   "execution_count": 2,
   "metadata": {},
   "outputs": [
    {
     "name": "stdout",
     "output_type": "stream",
     "text": [
      "enter number3456757\n",
      "7\n"
     ]
    }
   ],
   "source": [
    "n1=int(input('enter number'))\n",
    "n2=0\n",
    "while n1>0:\n",
    "    rem=n1%10\n",
    "    if n2<rem:\n",
    "        n2=rem\n",
    "    n1=n1//10\n",
    "print(n2) \n",
    "\n",
    "\n"
   ]
  },
  {
   "cell_type": "code",
   "execution_count": 7,
   "metadata": {},
   "outputs": [
    {
     "name": "stdout",
     "output_type": "stream",
     "text": [
      "enter number121\n",
      "no\n"
     ]
    }
   ],
   "source": [
    "#5.The program must accept an integer N as the input. Need to print the output in the following manner\n",
    "import math\n",
    "num=int(input('enter number'))\n",
    "temp=num\n",
    "n=0\n",
    "while num>0:\n",
    "    rem=num%10 #1\n",
    "    x=math.factorial(rem)#1\n",
    "    n=n+x #0+1\n",
    "    num=num//10 #12//10\n",
    "if temp==n:\n",
    "    print('yes')\n",
    "else:\n",
    "    print('no')\n"
   ]
  },
  {
   "cell_type": "code",
   "execution_count": 9,
   "metadata": {},
   "outputs": [
    {
     "name": "stdout",
     "output_type": "stream",
     "text": [
      "enter a number23456\n",
      "12\n"
     ]
    }
   ],
   "source": [
    "#The program must accept an integer N as the input. Need to print the output in the following manner.\n",
    "num=int(input('enter a number'))\n",
    "n2=0\n",
    "while num>0:\n",
    "    rem=num%10\n",
    "    if rem%2==0:\n",
    "        n2=n2+rem\n",
    "    num=num//10\n",
    "print(n2)"
   ]
  },
  {
   "cell_type": "code",
   "execution_count": null,
   "metadata": {},
   "outputs": [],
   "source": []
  }
 ],
 "metadata": {
  "kernelspec": {
   "display_name": "Python 3",
   "language": "python",
   "name": "python3"
  },
  "language_info": {
   "codemirror_mode": {
    "name": "ipython",
    "version": 3
   },
   "file_extension": ".py",
   "mimetype": "text/x-python",
   "name": "python",
   "nbconvert_exporter": "python",
   "pygments_lexer": "ipython3",
   "version": "3.7.4"
  }
 },
 "nbformat": 4,
 "nbformat_minor": 2
}
